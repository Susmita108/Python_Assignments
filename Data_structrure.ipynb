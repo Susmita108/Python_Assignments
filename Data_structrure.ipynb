{
  "nbformat": 4,
  "nbformat_minor": 0,
  "metadata": {
    "colab": {
      "provenance": []
    },
    "kernelspec": {
      "name": "python3",
      "display_name": "Python 3"
    },
    "language_info": {
      "name": "python"
    }
  },
  "cells": [
    {
      "cell_type": "markdown",
      "source": [
        "1- given a list of numbers, write a program to find the mean of the numbers in list\n"
      ],
      "metadata": {
        "id": "PSq7W15s4DZn"
      }
    },
    {
      "cell_type": "code",
      "source": [
        "l = [10,20,30,40,50]\n",
        "sum = 0\n",
        "for i in l:\n",
        "  sum+= i\n",
        "print(\"mean\",sum/len(l))\n"
      ],
      "metadata": {
        "colab": {
          "base_uri": "https://localhost:8080/"
        },
        "id": "UI41BZRo4FMM",
        "outputId": "7ce3e543-2dde-4fa5-973f-39d23931d806"
      },
      "execution_count": 30,
      "outputs": [
        {
          "output_type": "stream",
          "name": "stdout",
          "text": [
            "mean 30.0\n"
          ]
        }
      ]
    },
    {
      "cell_type": "markdown",
      "source": [
        "2- given a list of numbers unsorted, write a program to find the median of the numbers in list"
      ],
      "metadata": {
        "id": "qXXsxt1D40oG"
      }
    },
    {
      "cell_type": "code",
      "source": [
        "l = [30,40,10,20,50]\n",
        "l.sort()\n",
        "middle_loc = int(len(l)/2)\n",
        "t = int((l[middle_loc] + l[middle_loc+1])/2)\n",
        "if len(l)%2 ==0 :\n",
        "  print(\"median1\",l[t])\n",
        "else:\n",
        "  print(\"median\",l[middle_loc])\n"
      ],
      "metadata": {
        "colab": {
          "base_uri": "https://localhost:8080/"
        },
        "id": "uQ4_ykiT4z9c",
        "outputId": "fd5159a9-4151-4237-acd0-422637113174"
      },
      "execution_count": 31,
      "outputs": [
        {
          "output_type": "stream",
          "name": "stdout",
          "text": [
            "median 30\n"
          ]
        }
      ]
    },
    {
      "cell_type": "markdown",
      "source": [
        "3- from a list of numbers create 2 list , one containing only the even numbers and other only the odd numbers"
      ],
      "metadata": {
        "id": "9AhPn4XA8mE7"
      }
    },
    {
      "cell_type": "code",
      "source": [
        "l = [1,2,3,4,5,6,7,8,9,10]\n",
        "even_list = []\n",
        "odd_list = []\n",
        "for i in l:\n",
        "  if i%2 == 0:\n",
        "    even_list.append(i)\n",
        "  else:\n",
        "    odd_list.append(i)\n",
        "print(\"Even list\",even_list)\n",
        "print(\"Odd list\", odd_list)"
      ],
      "metadata": {
        "colab": {
          "base_uri": "https://localhost:8080/"
        },
        "id": "uzzxPA_-793a",
        "outputId": "15aee269-650a-4f22-9d76-428dd153095f"
      },
      "execution_count": 32,
      "outputs": [
        {
          "output_type": "stream",
          "name": "stdout",
          "text": [
            "Even list [2, 4, 6, 8, 10]\n",
            "Odd list [1, 3, 5, 7, 9]\n"
          ]
        }
      ]
    },
    {
      "cell_type": "markdown",
      "source": [
        "6- write a program to take a positive number as input from user. if the user enters negative number then keep promting him to enter positive number until he enters the positive number and then print the same\n"
      ],
      "metadata": {
        "id": "Lko0h59y9Xr4"
      }
    },
    {
      "cell_type": "code",
      "source": [
        "n = int(input(\"Enter a number: \"))\n",
        "\n",
        "while n<0:\n",
        "  print(\"Enter a positive number\")\n",
        "  n = int(input(\"Enter a number: \"))\n",
        "print(\" positive number is\",n)"
      ],
      "metadata": {
        "colab": {
          "base_uri": "https://localhost:8080/"
        },
        "id": "Rd6_uCqMBbcq",
        "outputId": "dd15525b-5d0f-4feb-c270-57807d18d7c2"
      },
      "execution_count": 33,
      "outputs": [
        {
          "output_type": "stream",
          "name": "stdout",
          "text": [
            "Enter a number: -2\n",
            "Enter a positive number\n",
            "Enter a number: -3\n",
            "Enter a positive number\n",
            "Enter a number: 2\n",
            " positive number is 2\n"
          ]
        }
      ]
    },
    {
      "cell_type": "markdown",
      "source": [
        "**7**- consider the below list of list conatins following information :\n",
        "\n",
        "1. The name of a university\n",
        "2. The total number of enrolled students\n",
        "3. The annual tuition fees\n",
        "\n",
        "universities = [\n",
        "['California Institute of Technology', 2175, 37704],\n",
        "['Harvard', 19627, 39849],\n",
        "['Massachusetts Institute of Technology', 10566, 40732],\n",
        "['Princeton', 7802, 37000],\n",
        "['Rice', 5879, 35551],\n",
        "['Stanford', 19535, 40569],\n",
        "['Yale', 11701, 40500]\n",
        "]\n",
        "\n",
        "write a program to print follwoing information :\n",
        "1- a list of all the universitites  : ['California Institute of Technology','Harvard',..so on]\n",
        "2- total number of student entrolled in all the unversities together\n",
        "3- mean of tuition fees"
      ],
      "metadata": {
        "id": "J4M5s0zaCMSi"
      }
    },
    {
      "cell_type": "code",
      "source": [
        "univ = [ ['California Institute of Technology', 2175, 37704], ['Harvard', 19627, 39849],\n",
        " ['Massachusetts Institute of Technology', 10566, 40732], ['Princeton', 7802, 37000], ['Rice', 5879, 35551],\n",
        "  ['Stanford', 19535, 40569], ['Yale', 11701, 40500] ]\n"
      ],
      "metadata": {
        "id": "Lc-HaOBmCb95"
      },
      "execution_count": 34,
      "outputs": []
    },
    {
      "cell_type": "code",
      "source": [
        "l =[]\n",
        "l1 = []\n",
        "l2 = []\n",
        "for i in univ:\n",
        "  l.append(i[0])\n",
        "  l1.append(i[1])\n",
        "  l2.append(i[2])\n",
        "sum = 0\n",
        "for j in l2:\n",
        "  sum+= j\n",
        "\n",
        "\n",
        "print(\"University name \", l)\n",
        "print(\"The no. of student\",l1)\n",
        "print(\"Mean of tuition fees\",sum/len(l2))"
      ],
      "metadata": {
        "colab": {
          "base_uri": "https://localhost:8080/"
        },
        "id": "yqg9LLiVGIoN",
        "outputId": "1167fa8f-c0d3-428d-c00f-22a7bf392b9d"
      },
      "execution_count": 35,
      "outputs": [
        {
          "output_type": "stream",
          "name": "stdout",
          "text": [
            "University name  ['California Institute of Technology', 'Harvard', 'Massachusetts Institute of Technology', 'Princeton', 'Rice', 'Stanford', 'Yale']\n",
            "The no. of student [2175, 19627, 10566, 7802, 5879, 19535, 11701]\n",
            "Mean of tuition fees 38843.57142857143\n"
          ]
        }
      ]
    },
    {
      "cell_type": "markdown",
      "source": [
        "8- write a program to convert above universities list to a dictionary. the keys should be the name of the university\n"
      ],
      "metadata": {
        "id": "gM4168ZWNLl1"
      }
    },
    {
      "cell_type": "code",
      "source": [
        "p = {}\n",
        "for i in range(len(l)):\n",
        "  p[l[i]] = [l1[i],l2[i]]\n",
        "p"
      ],
      "metadata": {
        "colab": {
          "base_uri": "https://localhost:8080/"
        },
        "id": "R7jT554XY9KX",
        "outputId": "4c835989-dea8-4930-eec9-bb652334c760"
      },
      "execution_count": 36,
      "outputs": [
        {
          "output_type": "execute_result",
          "data": {
            "text/plain": [
              "{'California Institute of Technology': [2175, 37704],\n",
              " 'Harvard': [19627, 39849],\n",
              " 'Massachusetts Institute of Technology': [10566, 40732],\n",
              " 'Princeton': [7802, 37000],\n",
              " 'Rice': [5879, 35551],\n",
              " 'Stanford': [19535, 40569],\n",
              " 'Yale': [11701, 40500]}"
            ]
          },
          "metadata": {},
          "execution_count": 36
        }
      ]
    },
    {
      "cell_type": "markdown",
      "source": [
        "9-  write a program that reverses a given string. For example, if the input is \"Hello\" from user, the output should be \"olleH\"\n"
      ],
      "metadata": {
        "id": "Wegk2jzVNwNz"
      }
    },
    {
      "cell_type": "code",
      "source": [
        "s :str = input(\"Enter a string:\" )\n",
        "for i in range(len(s),0,-1):\n",
        "  print(s[i-1],end = '')\n"
      ],
      "metadata": {
        "colab": {
          "base_uri": "https://localhost:8080/"
        },
        "id": "ZhLtKAuHS9ik",
        "outputId": "ffe1af04-6999-446a-f5d7-4e936afa842d"
      },
      "execution_count": 37,
      "outputs": [
        {
          "output_type": "stream",
          "name": "stdout",
          "text": [
            "Enter a string:hello\n",
            "olleh"
          ]
        }
      ]
    },
    {
      "cell_type": "markdown",
      "source": [
        "10- write a program that finds the largest number in a list(unsorted) of integers without using sort/sorted method."
      ],
      "metadata": {
        "id": "GFDzYnL3NyRh"
      }
    },
    {
      "cell_type": "code",
      "source": [
        "l = [100, 90,110,200,500,3200]\n",
        "l1 = []\n",
        "for i in range(0,len(l)):\n",
        "  if l[i-1]<l[i]:\n",
        "    l1.append(l[i-1])\n",
        "  else :\n",
        "    l[i] = l[i-1]\n",
        "    l1.append(l[i])\n",
        "print(l1[-1])"
      ],
      "metadata": {
        "colab": {
          "base_uri": "https://localhost:8080/"
        },
        "id": "X8wBr58YXgzH",
        "outputId": "02b3404c-05d6-4b6b-f30b-1a3d32120e06"
      },
      "execution_count": 38,
      "outputs": [
        {
          "output_type": "stream",
          "name": "stdout",
          "text": [
            "3200\n"
          ]
        }
      ]
    },
    {
      "cell_type": "code",
      "source": [
        "l = [10, 9,11,2,50,32]\n",
        "l1 = []\n",
        "for i in range(0,len(l)):\n",
        "  if l[i-1]<l[i]:\n",
        "    l1.append(l[i-1])\n",
        "  else :\n",
        "    l[i] = l[i-1]\n",
        "    l1.append(l[i])\n",
        "print(l1[-1])"
      ],
      "metadata": {
        "colab": {
          "base_uri": "https://localhost:8080/"
        },
        "id": "4iu-UQfKbkmM",
        "outputId": "a2acbece-bb13-4aba-b119-548f1c5a0f77"
      },
      "execution_count": 39,
      "outputs": [
        {
          "output_type": "stream",
          "name": "stdout",
          "text": [
            "50\n"
          ]
        }
      ]
    }
  ]
}